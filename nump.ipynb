{
 "cells": [
  {
   "cell_type": "code",
   "execution_count": 2,
   "id": "25d5bf40",
   "metadata": {},
   "outputs": [
    {
     "name": "stdout",
     "output_type": "stream",
     "text": [
      "[19.41197103 18.99231826 13.24337359 18.13704776 10.67537819 24.36560923\n",
      " 12.75889122 22.85103491 23.37238561 11.36754713]\n",
      "[12.96401727 17.99352178 19.18253177 11.94056986 19.22203945 17.44890962\n",
      " 10.7501237  18.00360529 15.57749635 18.97613569]\n",
      "[19.37482283 17.78152639 15.01833257 24.84249783 11.47027521 23.52887754\n",
      " 13.07522581 12.34138041 15.4320849  12.12696906]\n",
      "[15.71521686 13.11061962 23.85022654 23.45701322 11.44466153 20.29450701\n",
      " 24.082677   18.16534978 21.2342253  22.32692728]\n",
      "[17.81989242 19.25531462 15.65754876 21.9266721  23.27512711 14.18619686\n",
      " 19.86869601 12.45429378 20.8560828  23.41039678]\n"
     ]
    }
   ],
   "source": [
    "import numpy as np\n",
    "\n",
    "arr = np.zeros((5,10))\n",
    "\n",
    "for num in arr:\n",
    "    num = np.random.uniform(25,10,10)\n",
    "    print(num)"
   ]
  }
 ],
 "metadata": {
  "kernelspec": {
   "display_name": "Python 3",
   "language": "python",
   "name": "python3"
  },
  "language_info": {
   "codemirror_mode": {
    "name": "ipython",
    "version": 3
   },
   "file_extension": ".py",
   "mimetype": "text/x-python",
   "name": "python",
   "nbconvert_exporter": "python",
   "pygments_lexer": "ipython3",
   "version": "3.13.1"
  }
 },
 "nbformat": 4,
 "nbformat_minor": 5
}
