{
 "cells": [
  {
   "cell_type": "code",
   "execution_count": 1,
   "id": "53283fdd",
   "metadata": {
    "_cell_guid": "b1076dfc-b9ad-4769-8c92-a6c4dae69d19",
    "_uuid": "8f2839f25d086af736a60e9eeb907d3b93b6e0e5",
    "execution": {
     "iopub.execute_input": "2025-05-31T05:15:18.388591Z",
     "iopub.status.busy": "2025-05-31T05:15:18.388164Z",
     "iopub.status.idle": "2025-05-31T05:15:18.398586Z",
     "shell.execute_reply": "2025-05-31T05:15:18.397519Z"
    },
    "papermill": {
     "duration": 0.017105,
     "end_time": "2025-05-31T05:15:18.400347",
     "exception": false,
     "start_time": "2025-05-31T05:15:18.383242",
     "status": "completed"
    },
    "tags": []
   },
   "outputs": [
    {
     "data": {
      "text/plain": [
       "array([[0.23199389, 0.20143274, 0.99860853, 0.28116533, 0.34572873,\n",
       "        0.31316396, 0.04700596, 0.68046601, 0.28252495, 0.37725858],\n",
       "       [0.41841595, 0.43655217, 0.95822468, 0.23793809, 0.70472672,\n",
       "        0.50269008, 0.3122884 , 0.56558282, 0.27878828, 0.68449116],\n",
       "       [0.93010888, 0.83252277, 0.09725749, 0.18021006, 0.37021337,\n",
       "        0.25874027, 0.41963916, 0.18045614, 0.76187069, 0.01539229],\n",
       "       [0.84192586, 0.31707943, 0.73643362, 0.55568685, 0.54521292,\n",
       "        0.94144509, 0.76376188, 0.37700339, 0.14456514, 0.61284278],\n",
       "       [0.1059418 , 0.88127387, 0.57759284, 0.57289801, 0.95029277,\n",
       "        0.6198558 , 0.31818499, 0.88879041, 0.36786589, 0.4819554 ],\n",
       "       [0.35572515, 0.49211866, 0.08878067, 0.18070522, 0.35063061,\n",
       "        0.70709554, 0.58664586, 0.4211867 , 0.02892749, 0.29478899],\n",
       "       [0.87462341, 0.31473914, 0.80044618, 0.8817333 , 0.02636072,\n",
       "        0.80365529, 0.65965035, 0.9637792 , 0.67332183, 0.98009566],\n",
       "       [0.9478566 , 0.31325079, 0.81509538, 0.70995114, 0.44985481,\n",
       "        0.73323873, 0.98394846, 0.61727471, 0.6683971 , 0.06884133],\n",
       "       [0.22214281, 0.18969362, 0.44807311, 0.29158037, 0.34149241,\n",
       "        0.00463057, 0.75647458, 0.90539347, 0.78605484, 0.47437253],\n",
       "       [0.28535774, 0.31365733, 0.12052056, 0.33995965, 0.28540493,\n",
       "        0.42736364, 0.22270029, 0.51933531, 0.51613741, 0.93953711]])"
      ]
     },
     "execution_count": 1,
     "metadata": {},
     "output_type": "execute_result"
    }
   ],
   "source": [
    "'''np.random.rand(): Floats from a uniform distribution [0,1) excluding 1'''\n",
    "\n",
    "import numpy as np\n",
    "\n",
    "np.random.rand(10)\n",
    "np.random.rand(2,2)\n",
    "np.random.rand(10, 10)"
   ]
  },
  {
   "cell_type": "code",
   "execution_count": 2,
   "id": "bf43f2e4",
   "metadata": {
    "execution": {
     "iopub.execute_input": "2025-05-31T05:15:18.408295Z",
     "iopub.status.busy": "2025-05-31T05:15:18.407931Z",
     "iopub.status.idle": "2025-05-31T05:15:18.415463Z",
     "shell.execute_reply": "2025-05-31T05:15:18.414422Z"
    },
    "papermill": {
     "duration": 0.013423,
     "end_time": "2025-05-31T05:15:18.417342",
     "exception": false,
     "start_time": "2025-05-31T05:15:18.403919",
     "status": "completed"
    },
    "tags": []
   },
   "outputs": [
    {
     "data": {
      "text/plain": [
       "array([[[ 1.49368374,  0.38565586],\n",
       "        [-1.59561587,  1.07984422]],\n",
       "\n",
       "       [[-1.27520827,  1.33935758],\n",
       "        [-0.87536764, -1.42672613]],\n",
       "\n",
       "       [[ 0.90047739,  0.63654383],\n",
       "        [ 0.75841579, -0.20438446]]])"
      ]
     },
     "execution_count": 2,
     "metadata": {},
     "output_type": "execute_result"
    }
   ],
   "source": [
    "'''np.random.randn(): Returns random values in a standard normal \n",
    "distribution mean = 0 and std = 1(Standard gaussian Distribution)\n",
    "mean = 0\n",
    "standard deviation = 1'''\n",
    "import numpy as np\n",
    "\n",
    "np.random.randn(3,3,3)\n",
    "np.random.randn(3,2,2)\n",
    "\n",
    "\n"
   ]
  },
  {
   "cell_type": "code",
   "execution_count": 3,
   "id": "8f04d296",
   "metadata": {
    "execution": {
     "iopub.execute_input": "2025-05-31T05:15:18.425945Z",
     "iopub.status.busy": "2025-05-31T05:15:18.425564Z",
     "iopub.status.idle": "2025-05-31T05:15:18.433039Z",
     "shell.execute_reply": "2025-05-31T05:15:18.431822Z"
    },
    "papermill": {
     "duration": 0.014008,
     "end_time": "2025-05-31T05:15:18.434823",
     "exception": false,
     "start_time": "2025-05-31T05:15:18.420815",
     "status": "completed"
    },
    "tags": []
   },
   "outputs": [
    {
     "data": {
      "text/plain": [
       "array([[-2.08104107,  0.4469986 , -3.07420063],\n",
       "       [-1.16022839, -1.55128632,  1.85193852],\n",
       "       [-0.99788677, -2.27171385, -0.58225512]])"
      ]
     },
     "execution_count": 3,
     "metadata": {},
     "output_type": "execute_result"
    }
   ],
   "source": [
    "'''np.random.normal(): Returns samples from normal distribution\n",
    "loc : mean of the distribution (by default = 0)\n",
    "scale: standard deviation(default = 1)\n",
    "size :shape of the output array'''\n",
    "import numpy as np\n",
    "np.random.normal( loc = 0, scale = 1, size = (3,3))"
   ]
  },
  {
   "cell_type": "code",
   "execution_count": 4,
   "id": "e34ab0e2",
   "metadata": {
    "execution": {
     "iopub.execute_input": "2025-05-31T05:15:18.443429Z",
     "iopub.status.busy": "2025-05-31T05:15:18.443085Z",
     "iopub.status.idle": "2025-05-31T05:15:18.448557Z",
     "shell.execute_reply": "2025-05-31T05:15:18.447594Z"
    },
    "papermill": {
     "duration": 0.011525,
     "end_time": "2025-05-31T05:15:18.450290",
     "exception": false,
     "start_time": "2025-05-31T05:15:18.438765",
     "status": "completed"
    },
    "tags": []
   },
   "outputs": [
    {
     "data": {
      "text/plain": [
       "'np.random.random() OR np.random.sample():\\nReturn random numbers from 0.0 to 1.0'"
      ]
     },
     "execution_count": 4,
     "metadata": {},
     "output_type": "execute_result"
    }
   ],
   "source": [
    "'''np.random.random() OR np.random.sample():\n",
    "Return random numbers from 0.0 to 1.0'''\n"
   ]
  },
  {
   "cell_type": "code",
   "execution_count": 5,
   "id": "90de56dd",
   "metadata": {
    "execution": {
     "iopub.execute_input": "2025-05-31T05:15:18.458249Z",
     "iopub.status.busy": "2025-05-31T05:15:18.457902Z",
     "iopub.status.idle": "2025-05-31T05:15:18.464458Z",
     "shell.execute_reply": "2025-05-31T05:15:18.463326Z"
    },
    "papermill": {
     "duration": 0.012706,
     "end_time": "2025-05-31T05:15:18.466487",
     "exception": false,
     "start_time": "2025-05-31T05:15:18.453781",
     "status": "completed"
    },
    "tags": []
   },
   "outputs": [
    {
     "data": {
      "text/plain": [
       "array([134.15492608,  79.27406667,  77.31233014,  40.06606299,\n",
       "        76.98064353,  11.01631726, 193.27721664, 123.42145086,\n",
       "        86.89147606,  72.69362638, 168.88728962, 178.01279828,\n",
       "        43.5930031 ,  64.46820641,  60.87154037, 132.68754687,\n",
       "        59.95170039,  24.43478254, 160.07801461,  73.29285717])"
      ]
     },
     "execution_count": 5,
     "metadata": {},
     "output_type": "execute_result"
    }
   ],
   "source": [
    "'''np.random.uniform(): generates numbrs in uniform range (low, high)'''\n",
    "\n",
    "import numpy as np\n",
    "\n",
    "np.random.uniform(1, 200, 20)"
   ]
  },
  {
   "cell_type": "code",
   "execution_count": 6,
   "id": "a6231a6d",
   "metadata": {
    "execution": {
     "iopub.execute_input": "2025-05-31T05:15:18.474876Z",
     "iopub.status.busy": "2025-05-31T05:15:18.474541Z",
     "iopub.status.idle": "2025-05-31T05:15:18.480590Z",
     "shell.execute_reply": "2025-05-31T05:15:18.479698Z"
    },
    "papermill": {
     "duration": 0.012044,
     "end_time": "2025-05-31T05:15:18.482172",
     "exception": false,
     "start_time": "2025-05-31T05:15:18.470128",
     "status": "completed"
    },
    "tags": []
   },
   "outputs": [
    {
     "data": {
      "text/plain": [
       "array([[230.29246278,  67.73094437],\n",
       "       [209.46756905, 235.06709601]])"
      ]
     },
     "execution_count": 6,
     "metadata": {},
     "output_type": "execute_result"
    }
   ],
   "source": [
    "import  numpy as np\n",
    "\n",
    "np.random.uniform(1, 500, (2, 2))"
   ]
  },
  {
   "cell_type": "code",
   "execution_count": 7,
   "id": "1cc1d270",
   "metadata": {
    "execution": {
     "iopub.execute_input": "2025-05-31T05:15:18.490530Z",
     "iopub.status.busy": "2025-05-31T05:15:18.490156Z",
     "iopub.status.idle": "2025-05-31T05:15:19.502582Z",
     "shell.execute_reply": "2025-05-31T05:15:19.501384Z"
    },
    "papermill": {
     "duration": 1.018951,
     "end_time": "2025-05-31T05:15:19.504773",
     "exception": false,
     "start_time": "2025-05-31T05:15:18.485822",
     "status": "completed"
    },
    "tags": []
   },
   "outputs": [
    {
     "data": {
      "text/plain": [
       "0     1\n",
       "1     4\n",
       "2     9\n",
       "3    16\n",
       "4    25\n",
       "dtype: int64"
      ]
     },
     "execution_count": 7,
     "metadata": {},
     "output_type": "execute_result"
    }
   ],
   "source": [
    "import pandas as pd\n",
    "import numpy as np\n",
    "array = np.array([1,2,3,4,5])\n",
    "s = pd.Series(array)\n",
    "#s * 2\n",
    "s ** 2"
   ]
  },
  {
   "cell_type": "code",
   "execution_count": 8,
   "id": "fb20e75a",
   "metadata": {
    "execution": {
     "iopub.execute_input": "2025-05-31T05:15:19.514112Z",
     "iopub.status.busy": "2025-05-31T05:15:19.513639Z",
     "iopub.status.idle": "2025-05-31T05:15:19.534789Z",
     "shell.execute_reply": "2025-05-31T05:15:19.533519Z"
    },
    "papermill": {
     "duration": 0.027637,
     "end_time": "2025-05-31T05:15:19.536637",
     "exception": false,
     "start_time": "2025-05-31T05:15:19.509000",
     "status": "completed"
    },
    "tags": []
   },
   "outputs": [
    {
     "data": {
      "text/plain": [
       "0    23.0\n",
       "1    36.0\n",
       "2    49.0\n",
       "3     0.0\n",
       "4     0.0\n",
       "dtype: float64"
      ]
     },
     "execution_count": 8,
     "metadata": {},
     "output_type": "execute_result"
    }
   ],
   "source": [
    "import pandas as pd\n",
    "import numpy as np\n",
    "\n",
    "array1 = np.array([11,22,33,44,55])\n",
    "array2 = np.array([12,14,16])\n",
    "\n",
    "s1 = pd.Series(array1)\n",
    "s2 = pd.Series(array2)\n",
    "\n",
    "s = s1+s2\n",
    "\n",
    "s.fillna(0)"
   ]
  },
  {
   "cell_type": "code",
   "execution_count": 9,
   "id": "2894b4d9",
   "metadata": {
    "execution": {
     "iopub.execute_input": "2025-05-31T05:15:19.545869Z",
     "iopub.status.busy": "2025-05-31T05:15:19.545486Z",
     "iopub.status.idle": "2025-05-31T05:15:19.554490Z",
     "shell.execute_reply": "2025-05-31T05:15:19.553528Z"
    },
    "papermill": {
     "duration": 0.015124,
     "end_time": "2025-05-31T05:15:19.555969",
     "exception": false,
     "start_time": "2025-05-31T05:15:19.540845",
     "status": "completed"
    },
    "tags": []
   },
   "outputs": [
    {
     "data": {
      "text/plain": [
       "0    12.0\n",
       "1    24.0\n",
       "2     3.0\n",
       "3    37.0\n",
       "4     0.0\n",
       "dtype: float64"
      ]
     },
     "execution_count": 9,
     "metadata": {},
     "output_type": "execute_result"
    }
   ],
   "source": [
    "import pandas as pd\n",
    "import numpy as np\n",
    "\n",
    "array1 =np.array([1,2,3,4,np.nan])\n",
    "array2 = np.array([11,22,np.nan,33,np.nan])\n",
    "\n",
    "s1 = pd.Series(array1)\n",
    "s2 = pd.Series(array2)\n",
    "\n",
    "s = s1.fillna(0) + s2.fillna(0)\n",
    "s.head()\n"
   ]
  },
  {
   "cell_type": "code",
   "execution_count": 10,
   "id": "9acae7e8",
   "metadata": {
    "execution": {
     "iopub.execute_input": "2025-05-31T05:15:19.565649Z",
     "iopub.status.busy": "2025-05-31T05:15:19.565258Z",
     "iopub.status.idle": "2025-05-31T05:15:19.578864Z",
     "shell.execute_reply": "2025-05-31T05:15:19.577835Z"
    },
    "papermill": {
     "duration": 0.020385,
     "end_time": "2025-05-31T05:15:19.580621",
     "exception": false,
     "start_time": "2025-05-31T05:15:19.560236",
     "status": "completed"
    },
    "tags": []
   },
   "outputs": [
    {
     "data": {
      "text/plain": [
       "marks    [60, 75, 82, 69, nan, nan]\n",
       "dtype: object"
      ]
     },
     "execution_count": 10,
     "metadata": {},
     "output_type": "execute_result"
    }
   ],
   "source": [
    "import pandas as pd\n",
    "import numpy as np\n",
    "dict = {'marks' : [60, 75,82,69, np.nan, np.nan]}\n",
    "s = pd.Series(dict)\n",
    "series = s.fillna(0)\n",
    "series.head()\n"
   ]
  }
 ],
 "metadata": {
  "kaggle": {
   "accelerator": "none",
   "dataSources": [],
   "dockerImageVersionId": 30918,
   "isGpuEnabled": false,
   "isInternetEnabled": true,
   "language": "python",
   "sourceType": "notebook"
  },
  "kernelspec": {
   "display_name": "Python 3",
   "language": "python",
   "name": "python3"
  },
  "language_info": {
   "codemirror_mode": {
    "name": "ipython",
    "version": 3
   },
   "file_extension": ".py",
   "mimetype": "text/x-python",
   "name": "python",
   "nbconvert_exporter": "python",
   "pygments_lexer": "ipython3",
   "version": "3.10.12"
  },
  "papermill": {
   "default_parameters": {},
   "duration": 5.421621,
   "end_time": "2025-05-31T05:15:20.205685",
   "environment_variables": {},
   "exception": null,
   "input_path": "__notebook__.ipynb",
   "output_path": "__notebook__.ipynb",
   "parameters": {},
   "start_time": "2025-05-31T05:15:14.784064",
   "version": "2.6.0"
  }
 },
 "nbformat": 4,
 "nbformat_minor": 5
}
