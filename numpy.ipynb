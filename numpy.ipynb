{
 "cells": [
  {
   "cell_type": "markdown",
   "id": "d541f020",
   "metadata": {},
   "source": [
    "NumPy:\n",
    "------\n",
    "\n",
    "NumPy is Numerical Python simply means fundamental library for numerical computations.\n",
    "It provide support for array, mathematical functions, linear algebra and more.\n",
    "\n",
    "->numpy is a powerful library for numerical operations.\n",
    "->It support for multi-dimensional array and matrices\n",
    "->it offers efficient mathematical functions and operations\n",
    "\n",
    "We represent list in square brackets[],\n",
    "We also represent numpy in square brackets[],\n",
    "Soo what is the difference between numpy array and list?\n",
    "\n",
    "\n",
    "performance--->\tList\t\t\t\t\t        NumPy\n",
    "\t\tSlower because it is more\t\t        Faster because it uses fixed data types\n",
    "\t\tflexible to store heterogeneous\n",
    "\t\tdata types\n",
    "\n",
    "Memory Efficiency->List\t\t\t\t\t        NumPy\n",
    "\t\tused more memory because it stores\t    more memory efficient because it uses \n",
    "\t\trefrences to objects\t\t\t        contiguous memery block\n",
    "\n",
    "datatype-->\tlist\t\t\t\t\t            NUMPY\n",
    "\t\tcan store different datatypes\t\t    can store same datatype, require all datatypes tobe same\n",
    "\n",
    "functionality->\t\n",
    "\n",
    "    lacks built-in support for mathematic\t    it is support for  mathematic computations, \n",
    "\tcomputations                                boardcasting and vectorized computations\n",
    "\n",
    "Indexing & slicing->\n",
    "\n",
    "    Support basic indexing and slicing\t        support advanced indexing and slicing\n",
    "\n",
    "\n",
    "\n",
    "creating an array in NumPy:\n",
    "\n",
    "to create a numpy array we need to do is import a NumPy library and give a alias to a numpy library like\n",
    "\n",
    "---> import NumPy as np  #here numpy is the library and np is the alias name we have given.\n",
    "\n",
    "to create a numpy array we use \n",
    "\n",
    "array(): is a function used to createNumPy array from a Python list.\n",
    "\n",
    "syntax:\n",
    "\n",
    "numpy.array(object, dtype=None, copy=True, order='K', subok=False, ndmin=0)\n",
    "\n",
    "\tobject: Any array-like structure (list, tuple, or another NumPy array).\n",
    "\n",
    "\tdtype: Data type of array elements (e.g., int, float, complex).\n",
    "\n",
    "\tcopy: Whether to copy the input data (True by default).\n",
    "\n",
    "\torder: Memory layout (C for row-major, F for column-major).\n",
    "\n",
    "\tsubok: Whether to allow subclasses (False by default).\n",
    "\n",
    "\tndmin: Minimum number of dimensions.\n",
    "\n",
    "\n",
    "Properties of NumPy array:\n",
    "\n",
    "ndim: returns the number of dimention of numpy array\n",
    "shape: return the shape of array return number of rows and columns, sape(rows, columns)\n",
    "size: return the number of element.\n",
    "dtype: return the datatype of elements.\n"
   ]
  },
  {
   "cell_type": "code",
   "execution_count": 1,
   "id": "aec8ee9c",
   "metadata": {},
   "outputs": [
    {
     "name": "stdout",
     "output_type": "stream",
     "text": [
      "2\n",
      "(2, 5)\n",
      "10\n",
      "int64\n"
     ]
    }
   ],
   "source": [
    "import numpy as np\n",
    "\n",
    "array = np.array([[1,2,3,4,5], [2,4,6,8,10]])\n",
    "#print properties of numpy array\n",
    "\n",
    "print(array.ndim) #number of dimentions - 2\n",
    "print(array.shape) #shape of the given array shape(rows, columns) (2,5)\n",
    "print(array.size) #Number of elements - 10\n",
    "print(array.dtype) # the datatype of given array - int64"
   ]
  },
  {
   "cell_type": "markdown",
   "id": "28f2d24e",
   "metadata": {},
   "source": [
    "zeros() : it will create a array filled with zero's.\n",
    "\n",
    "syntax:\n",
    "\n",
    "np.zeros(shape, dtype = float, order = 'c')\n",
    "\n",
    "Parameter this function will take:\n",
    "\tshape: tuple or int which defines the shape of the array.\n",
    "\tdtype: the datatype of elements by default will be float\n",
    "\torder: memory layout('C' for row_major and 'F' for column_major\n"
   ]
  },
  {
   "cell_type": "code",
   "execution_count": 4,
   "id": "5e8fb7e3",
   "metadata": {},
   "outputs": [],
   "source": [
    "array1= np.zeros(0) #it will create a one dimention array with zeros.\n",
    "\n",
    "array2 = np.zeros((5,5)) # it will create 5 * 5 array with zeros.\n",
    "\n",
    "array3_int = np.zeros((2,3), dtype = int) #it will create a two dimention array with int type of elements\n",
    "\n",
    "array4 = np.zeros((2,3,4)) #it will create a #D array with two blocks, three rows and four columns.\n"
   ]
  },
  {
   "cell_type": "markdown",
   "id": "d805aa48",
   "metadata": {},
   "source": [
    "why am i creating array with zeros?\n",
    "\n",
    "---> Initialization or memory allocation\n",
    "\n",
    "\n",
    "one(): this function creates array filled with ones.\n",
    "\n",
    "syntax:\n",
    "\n",
    "np.ones(shape, dtype : float, order = 'c')\n",
    "\n",
    "Parameter this function will take:\n",
    "\tshape: tuple or int which defines the shape of the array.\n",
    "\tdtype: the datatype of elements by default will be float\n",
    "\torder: memory layout('C' for row_major and 'F' for column_major)"
   ]
  },
  {
   "cell_type": "code",
   "execution_count": 5,
   "id": "1a890d71",
   "metadata": {},
   "outputs": [
    {
     "name": "stdout",
     "output_type": "stream",
     "text": [
      "[[1. 1. 1. 1. 1.]\n",
      " [1. 1. 1. 1. 1.]\n",
      " [1. 1. 1. 1. 1.]\n",
      " [1. 1. 1. 1. 1.]\n",
      " [1. 1. 1. 1. 1.]]\n",
      "[[1 1 1 1 1]\n",
      " [1 1 1 1 1]\n",
      " [1 1 1 1 1]\n",
      " [1 1 1 1 1]\n",
      " [1 1 1 1 1]]\n"
     ]
    }
   ],
   "source": [
    "import numpy as np\n",
    "\n",
    "arr = np.ones((5, 5))\n",
    "array = np.ones((5,5), dtype = int) #explicit convertion float to int\n",
    "\n",
    "print(arr)\n",
    "print(array)\n"
   ]
  },
  {
   "cell_type": "markdown",
   "id": "90e3b385",
   "metadata": {},
   "source": [
    "why we create a array or multi-dimentional array with 1:\n",
    "\n",
    "---->   You need a default value (instead of zeros).\n",
    "\n",
    "\tYou want to initialize weights, biases, or matrices in machine learning.\n",
    "\n",
    "\tYou are preparing an array for multiplication or normalization.\n",
    "\n",
    "we have created array with 0's nd 1'n what if we wanted to create array with different numbers?\n",
    "\n",
    "\n",
    "full(): fill array with specific value given by the user. if we want to create array with fixed size we can use full().\n",
    "\n",
    "syntax:\n",
    "\n",
    "np.full(shape, fill_value, dtype = None, order = 'C')\n",
    "\n",
    "parameter:\tshape: tuple which specifies the dimension\n",
    "\t\tfill_value: the value to fill array with.\n",
    "\t\tdtype: (optional) datatype of array(int or float)\n",
    "\t\torder: (optional) memory layout.\n"
   ]
  },
  {
   "cell_type": "code",
   "execution_count": 6,
   "id": "550a69c0",
   "metadata": {},
   "outputs": [
    {
     "name": "stdout",
     "output_type": "stream",
     "text": [
      "[[8 8 8 8 8]\n",
      " [8 8 8 8 8]\n",
      " [8 8 8 8 8]\n",
      " [8 8 8 8 8]\n",
      " [8 8 8 8 8]]\n"
     ]
    }
   ],
   "source": [
    "import numpy as np\n",
    "\n",
    "array = np.full((5,5), 8) #fills array with 8.\n",
    "\n",
    "print(array)\n"
   ]
  },
  {
   "cell_type": "markdown",
   "id": "1840841b",
   "metadata": {},
   "source": [
    "eye(): feate a identity matrix of two dimension.\n",
    "\n",
    "syntax:\n",
    "\n",
    "numpy.eye(N, M=None, k=0, dtype=float, order='C')\n",
    "\n",
    "parameters: \tN → Number of rows\n",
    "\n",
    "\t\tM → (Optional) Number of columns (default: same as N, making it square)\n",
    "\n",
    "\t\tk → (Optional) Shift for the diagonal (default: 0)\n",
    "\n",
    "\t\tdtype → (Optional) Data type (int, float, etc.)\n",
    "\n",
    "\t\torder → (Optional) Memory layout ('C' for row-major, 'F' for column-major)\n"
   ]
  },
  {
   "cell_type": "code",
   "execution_count": 7,
   "id": "ffee263c",
   "metadata": {},
   "outputs": [
    {
     "name": "stdout",
     "output_type": "stream",
     "text": [
      "[[1. 0. 0.]\n",
      " [0. 1. 0.]\n",
      " [0. 0. 1.]]\n"
     ]
    }
   ],
   "source": [
    "import numpy as np\n",
    "\n",
    "arr = np.eye(3)\n",
    "print(arr)"
   ]
  },
  {
   "cell_type": "markdown",
   "id": "04c8c3ce",
   "metadata": {},
   "source": [
    "arrange() : It will create a array with range of values.\n",
    "\n",
    "syntax:\n",
    "\n",
    "np.arrange(start, end, step, dtype = None)\n",
    "\n",
    "parameters:\tstart : a starting pointer from where array is going to start, bydefault it will be 0.\n",
    "\t\tend : the end value, mandatory \n",
    "\t\tstep : increment between two values.\n",
    "\t\tdtype: it is optional\n",
    "\n"
   ]
  },
  {
   "cell_type": "code",
   "execution_count": 8,
   "id": "2a609bac",
   "metadata": {},
   "outputs": [
    {
     "name": "stdout",
     "output_type": "stream",
     "text": [
      "[1 3 5 7 9]\n"
     ]
    }
   ],
   "source": [
    "arr = np.arange(1, 10, 2)\n",
    "print(arr)\n"
   ]
  },
  {
   "cell_type": "markdown",
   "id": "29234ed4",
   "metadata": {},
   "source": [
    "linspace(): Generates evenly spaced numbers.\n",
    "\n",
    "syntax:\n",
    "\n",
    "numpy.linspace(start, stop, num=50, endpoint=True, retstep=False, dtype=None)\n",
    "\n",
    "parameters:\tstart → The starting value.\n",
    "\n",
    "\tstop → The ending value.\n",
    "\n",
    "\tnum → (Optional) The number of values to generate (default: 50).\n",
    "\n",
    "\tendpoint → (Optional) Whether to include the stop value (default: True).\n",
    "\n",
    "\tretstep → (Optional) If True, returns the step size used.\n",
    "\n",
    "\tdtype → (Optional) The data type of the array."
   ]
  },
  {
   "cell_type": "code",
   "execution_count": 9,
   "id": "4c2754c6",
   "metadata": {},
   "outputs": [
    {
     "name": "stdout",
     "output_type": "stream",
     "text": [
      "[ 1.    3.25  5.5   7.75 10.  ]\n"
     ]
    }
   ],
   "source": [
    "#the difference between elemnts in 2.25.\n",
    "import numpy as np\n",
    "arr = np.linspace(1, 10, num=5) #createa array with equally spaced elements\n",
    "print(arr)\n"
   ]
  },
  {
   "cell_type": "markdown",
   "id": "dd0df1ec",
   "metadata": {},
   "source": [
    "Indexing and Slicing:\n"
   ]
  },
  {
   "cell_type": "code",
   "execution_count": 10,
   "id": "9ece4a53",
   "metadata": {},
   "outputs": [
    {
     "name": "stdout",
     "output_type": "stream",
     "text": [
      "[[ 1  2  3  4]\n",
      " [ 5  6  7  8]\n",
      " [ 9 10 11 12]]\n",
      "[[ 5  6  7  8]\n",
      " [ 9 10 11 12]]\n",
      "[[ 9 10 11 12]]\n",
      "[[1 2 3 4]\n",
      " [5 6 7 8]]\n",
      "[[1 2 3 4]\n",
      " [5 6 7 8]]\n",
      "[[1 2 3 4]]\n",
      "[]\n",
      "1\n",
      "12\n",
      "7\n"
     ]
    }
   ],
   "source": [
    "import numpy as np\n",
    "\n",
    "array = np.array([[1,2,3,4],\n",
    "          [5,6,7,8],\n",
    "          [9,10,11,12]])\n",
    "\n",
    "print(array[0:]) #returns 0th index to end of the index\n",
    "print(array[1:]) #returns 1th index to end of the index\n",
    "print(array[2:]) #returns 2nd index\n",
    "print(array[0:2]) #returns elements excluding 0th index elements\n",
    "\n",
    "print(array[:-1]) #excludes -1 index and return remaining elemts\n",
    "print(array[:-2]) #excludes -2 only returnd remaining index\n",
    "print(array[:-3]) #return empty array cause there are no element in -4 index.\n",
    "\n",
    "print(array[0,0]) #returns value ot first row and first column.\n",
    "print(array[-1,-1]) #law rowm last column\n",
    "print(array[-2,-2])\n"
   ]
  },
  {
   "cell_type": "markdown",
   "id": "6a1b776e",
   "metadata": {},
   "source": [
    "Mathamatical Operations:\n"
   ]
  },
  {
   "cell_type": "code",
   "execution_count": 11,
   "id": "09d56aa6",
   "metadata": {},
   "outputs": [
    {
     "name": "stdout",
     "output_type": "stream",
     "text": [
      "[5 7 9]\n",
      "[-3 -3 -3]\n",
      "[ 4 10 18]\n",
      "[0.25 0.4  0.5 ]\n",
      "[1.         1.41421356 1.73205081]\n",
      "[ 2.71828183  7.3890561  20.08553692]\n",
      "[0.         0.69314718 1.09861229]\n",
      "6\n",
      "2.0\n",
      "0.816496580927726\n"
     ]
    }
   ],
   "source": [
    "a = np.array([1, 2, 3])\n",
    "b = np.array([4, 5, 6])\n",
    "\n",
    "print(a + b)  # [5, 7, 9]\n",
    "print(a - b)  # [-3, -3, -3]\n",
    "print(a * b)  # [4, 10, 18] (Element-wise multiplication)\n",
    "print(a / b)  # [0.25, 0.4, 0.5]\n",
    "\n",
    "print(np.sqrt(a))    # Square root\n",
    "print(np.exp(a))     # Exponential\n",
    "print(np.log(a))     # Natural log\n",
    "print(np.sum(a))     # Sum of all elements\n",
    "print(np.mean(a))    # Mean (average)\n",
    "print(np.std(a))     # Standard deviation"
   ]
  },
  {
   "cell_type": "markdown",
   "id": "09d6485f",
   "metadata": {},
   "source": [
    "Reshaping and Flattening(1D): Converts dimentions of arrat to given or 1d array.\n"
   ]
  },
  {
   "cell_type": "code",
   "execution_count": 12,
   "id": "91229601",
   "metadata": {},
   "outputs": [
    {
     "name": "stdout",
     "output_type": "stream",
     "text": [
      "[[1 2]\n",
      " [3 4]\n",
      " [5 6]]\n",
      "[1 2 3 4 5 6]\n"
     ]
    }
   ],
   "source": [
    "import numpy as np\n",
    "\n",
    "arr = np.array([[1, 2, 3], [4, 5, 6]])\n",
    "\n",
    "arr_reshaped = arr.reshape((3, 2))  # Change shape to (3,2)\n",
    "arr_flattened = arr.flatten()       # Convert to 1D array\n",
    "\n",
    "print(arr_reshaped)\n",
    "print(arr_flattened)\n",
    "\n"
   ]
  },
  {
   "cell_type": "markdown",
   "id": "dc1e532f",
   "metadata": {},
   "source": [
    "Broadcasting: Allows multiplication between array of different shapes.\n"
   ]
  },
  {
   "cell_type": "code",
   "execution_count": 13,
   "id": "a2ce3e84",
   "metadata": {},
   "outputs": [
    {
     "name": "stdout",
     "output_type": "stream",
     "text": [
      "[[2 4 6]\n",
      " [5 7 9]]\n",
      "[[0 0 0]\n",
      " [3 3 3]]\n",
      "[[ 1  4  9]\n",
      " [ 4 10 18]]\n",
      "[[1.  1.  1. ]\n",
      " [4.  2.5 2. ]]\n",
      "[[1 1 1]\n",
      " [4 2 2]]\n"
     ]
    }
   ],
   "source": [
    "import numpy as np\n",
    "\n",
    "a = np.array([[1, 2, 3], [4, 5, 6]])\n",
    "b = np.array([1, 2, 3])\n",
    "\n",
    "print(a + b)  # Adds b to each row of a\n",
    "print(a - b)\n",
    "print(a * b)\n",
    "print(a / b)\n",
    "print(a // b)\n",
    "\n"
   ]
  },
  {
   "cell_type": "markdown",
   "id": "421e8498",
   "metadata": {},
   "source": [
    "Linear Algebra in NumPy:\n"
   ]
  },
  {
   "cell_type": "code",
   "execution_count": 14,
   "id": "b613bc9e",
   "metadata": {},
   "outputs": [
    {
     "name": "stdout",
     "output_type": "stream",
     "text": [
      "[[19 22]\n",
      " [43 50]]\n",
      "[[-2.   1. ]\n",
      " [ 1.5 -0.5]]\n",
      "-2.0000000000000004\n",
      "EigResult(eigenvalues=array([-0.37228132,  5.37228132]), eigenvectors=array([[-0.82456484, -0.41597356],\n",
      "       [ 0.56576746, -0.90937671]]))\n"
     ]
    }
   ],
   "source": [
    "import numpy as np\n",
    "\n",
    "A = np.array([[1, 2], [3, 4]])\n",
    "B = np.array([[5, 6], [7, 8]])\n",
    "\n",
    "print(np.dot(A, B))  # Matrix multiplication\n",
    "print(np.linalg.inv(A))  # Inverse of A\n",
    "print(np.linalg.det(A))  # Determinant of A\n",
    "print(np.linalg.eig(A))  # Eigenvalues and eigenvectors\n",
    "\n"
   ]
  },
  {
   "cell_type": "markdown",
   "id": "d462bea9",
   "metadata": {},
   "source": [
    "Random Numbers with NumPy: generate random numbers in given range.\n"
   ]
  },
  {
   "cell_type": "code",
   "execution_count": 15,
   "id": "0b134b5c",
   "metadata": {},
   "outputs": [
    {
     "name": "stdout",
     "output_type": "stream",
     "text": [
      "[[0.21881063 0.03441511 0.86633324]\n",
      " [0.82586657 0.7425366  0.68300104]\n",
      " [0.7587523  0.39702894 0.12315078]]\n",
      "[[9 2]\n",
      " [8 6]]\n",
      "[[-0.09055493 -0.36933063 -2.2905822 ]\n",
      " [-0.65921761  1.01501376 -0.21492787]\n",
      " [-0.91550692  0.48716149  0.69843673]]\n",
      "20\n"
     ]
    }
   ],
   "source": [
    "import numpy as np\n",
    "\n",
    "\n",
    "print(np.random.rand(3, 3))    # Random values in [0, 1]\n",
    "print(np.random.randint(1, 10, (2, 2))) # Random integers\n",
    "print(np.random.randn(3, 3))   # Standard normal distribution\n",
    "print(np.random.choice([10, 20, 30]))  # Random choice from a list"
   ]
  },
  {
   "cell_type": "markdown",
   "id": "dd4d18db",
   "metadata": {},
   "source": [
    "random.rand():  numpy.random.rand() in NumPy is function numpy.random.rand() generates random numbers between 0 and 1 from a uniform distribution.\n"
   ]
  },
  {
   "cell_type": "code",
   "execution_count": 16,
   "id": "613cb25c",
   "metadata": {},
   "outputs": [
    {
     "name": "stdout",
     "output_type": "stream",
     "text": [
      "0.3307050605509373\n",
      "[0.79324857 0.86222172 0.31096355 0.60089203 0.11489808]\n",
      "[[5.14357746e-01 3.62935255e-01 7.53449725e-01 1.96847791e-01]\n",
      " [5.39997218e-01 6.81429407e-02 4.47031120e-04 1.67751845e-01]\n",
      " [5.20107993e-01 3.32245063e-01 8.03456418e-02 6.67140705e-02]]\n"
     ]
    }
   ],
   "source": [
    "import numpy as np\n",
    "\n",
    "arr = np.random.rand()\n",
    "print(arr)\n",
    "\n",
    "arr1 = np.random.rand(5)  # generates 5 random numbers\n",
    "print(arr1)\n",
    "\n",
    "arr2 = np.random.rand(3, 4)  # generates 3 rows, 4 columns with random numbers between 0 to 1\n",
    "print(arr2)\n"
   ]
  },
  {
   "cell_type": "markdown",
   "id": "99886a41",
   "metadata": {},
   "source": [
    "numpy.random.randint(): The function  generates random integer values from a specified range.\n"
   ]
  },
  {
   "cell_type": "code",
   "execution_count": 18,
   "id": "e4612bf4",
   "metadata": {},
   "outputs": [
    {
     "name": "stdout",
     "output_type": "stream",
     "text": [
      "4\n",
      "[6 2 4 5 6]\n",
      "[[6 4 8 4]\n",
      " [8 7 2 7]\n",
      " [2 1 5 7]]\n",
      "int32\n"
     ]
    }
   ],
   "source": [
    "import numpy as np\n",
    "\n",
    "arr = np.random.randint(1, 10)  # Random integer between 1 and 9\n",
    "print(arr)\n",
    "\n",
    "arr = np.random.randint(1, 10, size=5)  # Generate array of 5 random integers\n",
    "print(arr)\n",
    "\n",
    "arr = np.random.randint(1, 10, size=(3, 4))  # generate 2d array of 3 rows, 4 columns\n",
    "print(arr)\n",
    "\n",
    "arr = np.random.randint(1, 100, size=5, dtype=np.int32) #returns Datatype \n",
    "print(arr.dtype) \n",
    "\n"
   ]
  }
 ],
 "metadata": {
  "kernelspec": {
   "display_name": "Python 3",
   "language": "python",
   "name": "python3"
  },
  "language_info": {
   "codemirror_mode": {
    "name": "ipython",
    "version": 3
   },
   "file_extension": ".py",
   "mimetype": "text/x-python",
   "name": "python",
   "nbconvert_exporter": "python",
   "pygments_lexer": "ipython3",
   "version": "3.13.1"
  }
 },
 "nbformat": 4,
 "nbformat_minor": 5
}
